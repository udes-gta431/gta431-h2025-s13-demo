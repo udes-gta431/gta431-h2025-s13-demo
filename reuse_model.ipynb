{
 "cells": [
  {
   "metadata": {
    "ExecuteTime": {
     "end_time": "2025-04-01T09:19:57.511978Z",
     "start_time": "2025-04-01T09:19:57.507535Z"
    }
   },
   "cell_type": "code",
   "source": [
    "from cours_13_ai.utils import load_onnx_and_predict\n",
    "\n",
    "import pandas as pd\n",
    "\n",
    "new_customers = pd.DataFrame([\n",
    "    {\n",
    "        'gender': 0,\n",
    "        'annual_income': 37000,\n",
    "        'spending_score': 37,\n",
    "        'subscribed_to_newsletter': 1,\n",
    "        'days_since_last_purchase': 350,\n",
    "        'age': 19,\n",
    "    }\n",
    "])\n",
    "\n",
    "label_map = {0: 'Budget', 1: 'Standard', 2: 'Premium'}\n",
    "\n",
    "predictions = load_onnx_and_predict(\"customer_model.onnx\", new_customers)\n",
    "predicted_labels = [label_map[p] for p in predictions]\n",
    "print(predicted_labels)"
   ],
   "id": "6863e4478d5add82",
   "outputs": [
    {
     "name": "stdout",
     "output_type": "stream",
     "text": [
      "['Standard']\n"
     ]
    }
   ],
   "execution_count": 20
  }
 ],
 "metadata": {
  "kernelspec": {
   "display_name": "Python 3",
   "language": "python",
   "name": "python3"
  },
  "language_info": {
   "codemirror_mode": {
    "name": "ipython",
    "version": 2
   },
   "file_extension": ".py",
   "mimetype": "text/x-python",
   "name": "python",
   "nbconvert_exporter": "python",
   "pygments_lexer": "ipython2",
   "version": "2.7.6"
  }
 },
 "nbformat": 4,
 "nbformat_minor": 5
}
