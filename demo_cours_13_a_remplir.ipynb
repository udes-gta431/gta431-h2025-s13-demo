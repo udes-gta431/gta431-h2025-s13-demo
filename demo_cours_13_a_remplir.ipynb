{
 "cells": [
  {
   "metadata": {},
   "cell_type": "code",
   "source": [
    "import pandas as pd\n",
    "from datetime import datetime\n",
    "import warnings\n",
    "from pandas.errors import SettingWithCopyWarning\n",
    "\n",
    "warnings.simplefilter(action=\"ignore\", category=SettingWithCopyWarning)"
   ],
   "id": "f4e939a468c9c62c",
   "outputs": [],
   "execution_count": null
  },
  {
   "metadata": {},
   "cell_type": "markdown",
   "source": [
    "----\n",
    "# 1. Data wrangling (data engineer)\n",
    "----\n",
    "## 1.1 Lire fichier(s) source(s)"
   ],
   "id": "75264b2ab4050c12"
  },
  {
   "metadata": {},
   "cell_type": "code",
   "source": "",
   "id": "33fd913fb1faed7",
   "outputs": [],
   "execution_count": null
  },
  {
   "metadata": {},
   "cell_type": "markdown",
   "source": "# 1.2 Analyser dataframe",
   "id": "d35745afd80c5925"
  },
  {
   "metadata": {},
   "cell_type": "code",
   "source": "",
   "id": "957562fbe16af2bb",
   "outputs": [],
   "execution_count": null
  },
  {
   "metadata": {},
   "cell_type": "markdown",
   "source": "## 1.3 Filtrer lignes inutiles",
   "id": "bbd96ab47667cc99"
  },
  {
   "metadata": {},
   "cell_type": "code",
   "source": "",
   "id": "e0f6c4307e11242d",
   "outputs": [],
   "execution_count": null
  },
  {
   "metadata": {},
   "cell_type": "markdown",
   "source": "## 1.2 Convertir dates en valeurs numériques",
   "id": "6cf3cfb40af6c11b"
  },
  {
   "metadata": {},
   "cell_type": "code",
   "source": "",
   "id": "f67ad353bc33836e",
   "outputs": [],
   "execution_count": null
  },
  {
   "metadata": {},
   "cell_type": "markdown",
   "source": "## 1.3 Encodage des catégories en valeurs numériques",
   "id": "d743e3e2a5b3821d"
  },
  {
   "metadata": {},
   "cell_type": "code",
   "source": "",
   "id": "1ce5648cdac65b17",
   "outputs": [],
   "execution_count": null
  },
  {
   "metadata": {},
   "cell_type": "markdown",
   "source": "## 1.4 Suppression des colonnes non-numériques inutiles",
   "id": "3ac965a3c545670b"
  },
  {
   "metadata": {},
   "cell_type": "code",
   "source": "",
   "id": "7f1735cb1d77c7cc",
   "outputs": [],
   "execution_count": null
  },
  {
   "metadata": {},
   "cell_type": "markdown",
   "source": [
    "\n",
    "----\n",
    "# 2. Développement IA (data scientist)\n",
    "----\n",
    "## 2.1 Définition des *features* et des *targets*"
   ],
   "id": "86d62c0e2904ef1e"
  },
  {
   "metadata": {},
   "cell_type": "code",
   "source": [
    "feature_cols = [\n",
    "    'gender',\n",
    "    'annual_income',\n",
    "    'spending_score',\n",
    "    'subscribed_to_newsletter',\n",
    "    'days_since_last_purchase',\n",
    "    'age',\n",
    "]\n",
    "\n",
    "# TODO: define X (features) and y (target)"
   ],
   "id": "8e51813db80b331",
   "outputs": [],
   "execution_count": null
  },
  {
   "metadata": {},
   "cell_type": "markdown",
   "source": "## 2.2 Séparation des jeux de données d'entrainement vs test",
   "id": "51d4e81d34b6e076"
  },
  {
   "metadata": {},
   "cell_type": "code",
   "source": [
    "from sklearn.model_selection import train_test_split\n",
    "\n",
    "# TODO: split train/test\n"
   ],
   "id": "3159ed534ebef2bd",
   "outputs": [],
   "execution_count": null
  },
  {
   "metadata": {},
   "cell_type": "markdown",
   "source": "## 2.3 Entraînement du classificateur",
   "id": "1861f366c875526f"
  },
  {
   "metadata": {},
   "cell_type": "code",
   "source": [
    "from sklearn.tree import DecisionTreeClassifier, plot_tree\n",
    "\n",
    "# TODO: build decision tree classifier\n",
    "\n",
    "# TODO: fit classifier (train)\n"
   ],
   "id": "c3bb9fac72d4f787",
   "outputs": [],
   "execution_count": null
  },
  {
   "metadata": {},
   "cell_type": "markdown",
   "source": "## 2.4 Visualisation du classificateur généré (data analyst?)",
   "id": "8e8843439a85e658"
  },
  {
   "metadata": {},
   "cell_type": "code",
   "source": [
    "import matplotlib.pyplot as plt\n",
    "\n",
    "plt.figure(figsize=(35, 15))  # make the figure larger\n",
    "plot_tree(clf,\n",
    "          filled=True,\n",
    "          rounded=True,\n",
    "          class_names=clf.classes_.astype(str),\n",
    "          feature_names=X_train.columns,\n",
    "          fontsize=10\n",
    ")\n",
    "plt.show()"
   ],
   "id": "ec05fd19ee517a",
   "outputs": [],
   "execution_count": null
  },
  {
   "metadata": {},
   "cell_type": "markdown",
   "source": "## 2.5 Évaluation du modèle de classification",
   "id": "b994ef273057fc87"
  },
  {
   "metadata": {},
   "cell_type": "code",
   "source": [
    "from sklearn.metrics import classification_report, confusion_matrix, accuracy_score\n",
    "\n",
    "y_pred = clf.predict(X_test)\n",
    "\n",
    "print(\"1. RAPPORT DE CLASSIFICATION\")\n",
    "print(classification_report(y_test, y_pred))\n",
    "\n",
    "print(\"2. MATRICE DE CONFUSION\")\n",
    "print(confusion_matrix(y_test, y_pred))\n",
    "\n",
    "print(\"\\n3. PRÉCISION TRAIN VS TEST\")\n",
    "y_train_pred = clf.predict(X_train)\n",
    "y_test_pred = clf.predict(X_test)\n",
    "\n",
    "print(f\"Train: {str(accuracy_score(y_train, y_train_pred))[:5]}\")\n",
    "print(f\"Test:  {str(accuracy_score(y_test, y_test_pred))[:5]}\")"
   ],
   "id": "2d549f476c1e9413",
   "outputs": [],
   "execution_count": null
  },
  {
   "metadata": {},
   "cell_type": "markdown",
   "source": "## 2.6 Visualiser les erreurs de prédictions avec Plotly",
   "id": "302f958eb5c26a62"
  },
  {
   "metadata": {},
   "cell_type": "code",
   "source": [
    "import plotly.express as px\n",
    "\n",
    "# Add predictions to X_test for plotting\n",
    "results = X_test.copy()\n",
    "results['Actual'] = y_test\n",
    "results['Predicted'] = y_pred\n",
    "\n",
    "# Decode labels\n",
    "label_map = {0: 'Budget', 1: 'Standard', 2: 'Premium'}\n",
    "results['Predicted Label'] = results['Predicted'].map(label_map)\n",
    "results['Actual Label'] = results['Actual'].map(label_map)\n",
    "\n",
    "# Determine correctness\n",
    "results['Correct'] = results['Actual'] == results['Predicted']\n",
    "results['Prediction Result'] = results['Correct'].map({True: '✓ Correct', False: '✗ Incorrect'})\n",
    "\n",
    "# Create a shape label per error type\n",
    "results['Symbol Label'] = results.apply(\n",
    "    lambda row: f\"{row['Predicted Label']}←{row['Actual Label']}\" if not row['Correct'] else 'Correct',\n",
    "    axis=1\n",
    ")\n",
    "\n",
    "# Plot\n",
    "fig = px.scatter(\n",
    "    results,\n",
    "    x='annual_income',\n",
    "    y='spending_score',\n",
    "    color='Prediction Result',  # Green = correct, Red = incorrect\n",
    "    symbol='Symbol Label',      # Symbol = type of error\n",
    "    title='Customer Type Prediction Accuracy (Color = Accuracy, Symbol = Error Type)',\n",
    "    hover_data=['Predicted Label', 'Actual Label', 'age', 'subscribed_to_newsletter'],\n",
    "    color_discrete_map={\n",
    "        '✓ Correct': 'green',\n",
    "        '✗ Incorrect': 'red'\n",
    "    }\n",
    ")\n",
    "fig.show()\n"
   ],
   "id": "76cfb7026bd25923",
   "outputs": [],
   "execution_count": null
  },
  {
   "metadata": {},
   "cell_type": "markdown",
   "source": "## 2.7 Faire une prédiction avec des nouveaux clients",
   "id": "920ec74d1d89b0a8"
  },
  {
   "metadata": {},
   "cell_type": "code",
   "source": [
    "new_customers = pd.DataFrame([\n",
    "    {\n",
    "        'age': 42,\n",
    "        'annual_income': 65000,\n",
    "        'spending_score': 75,\n",
    "        'subscribed_to_newsletter': 1,\n",
    "        'days_since_last_purchase': 180,\n",
    "        'gender': 0\n",
    "    },\n",
    "    {\n",
    "        'age': 22,\n",
    "        'annual_income': 31000,\n",
    "        'spending_score': 30,\n",
    "        'subscribed_to_newsletter': 0,\n",
    "        'days_since_last_purchase': 400,\n",
    "        'gender': 2\n",
    "    }\n",
    "])\n",
    "label_map = {0: 'Budget', 1: 'Standard', 2: 'Premium'}\n",
    "preds = clf.predict(new_customers)\n",
    "predicted_labels = [label_map[p] for p in preds]\n",
    "print(predicted_labels)"
   ],
   "id": "4c7dcfaaae3dd8f",
   "outputs": [],
   "execution_count": null
  },
  {
   "metadata": {},
   "cell_type": "markdown",
   "source": "## 2.8 Enregistrer le modèle pour réutilisation future",
   "id": "e2afc4199aeea585"
  },
  {
   "metadata": {},
   "cell_type": "code",
   "source": [
    "from cours_13_ai.utils import save_model_to_onnx\n",
    "\n",
    "save_model_to_onnx(clf, X_sample=X_train[:1], filename=\"customer_model.onnx\")"
   ],
   "id": "d5987566c661eb0c",
   "outputs": [],
   "execution_count": null
  }
 ],
 "metadata": {
  "kernelspec": {
   "display_name": "Python 3",
   "language": "python",
   "name": "python3"
  },
  "language_info": {
   "codemirror_mode": {
    "name": "ipython",
    "version": 2
   },
   "file_extension": ".py",
   "mimetype": "text/x-python",
   "name": "python",
   "nbconvert_exporter": "python",
   "pygments_lexer": "ipython2",
   "version": "2.7.6"
  }
 },
 "nbformat": 4,
 "nbformat_minor": 5
}
